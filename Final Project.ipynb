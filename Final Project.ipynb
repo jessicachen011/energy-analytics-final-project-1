{
 "cells": [
  {
   "cell_type": "code",
   "execution_count": 1,
   "metadata": {},
   "outputs": [],
   "source": [
    "import numpy as np\n",
    "import pandas as pd\n",
    "import matplotlib.pyplot as plt\n",
    "import os\n",
    "import math"
   ]
  },
  {
   "cell_type": "code",
   "execution_count": 2,
   "metadata": {},
   "outputs": [
    {
     "name": "stdout",
     "output_type": "stream",
     "text": [
      "/Users/Jessica/Downloads/College Classes/Fall 2020/CS309/energyanalytics-master/Python Workflows\n"
     ]
    }
   ],
   "source": [
    "print(os.getcwd())"
   ]
  },
  {
   "cell_type": "code",
   "execution_count": 3,
   "metadata": {},
   "outputs": [
    {
     "data": {
      "text/plain": [
       "['Golden 4-21H.csv',\n",
       " 'State 3-156H.csv',\n",
       " 'Federal 3-123H.csv',\n",
       " 'Burger 10-170H.csv',\n",
       " 'completions_production.csv',\n",
       " 'Sutherland 1-11H.csv',\n",
       " 'Golden 8-14H.csv',\n",
       " 'Brisket 3-212H.csv',\n",
       " 'Numpy Networks in class.ipynb',\n",
       " 'Week_13b_validation.ipynb',\n",
       " 'Federal 8-142H.csv',\n",
       " 'Laramie 9-10H.csv',\n",
       " 'Brisket 1-44H.csv',\n",
       " 'Gunnison 12-38H.csv',\n",
       " 'Gunnison 13-160H.csv',\n",
       " 'King 2-120H.csv',\n",
       " 'Federal 14-113H.csv',\n",
       " 'production_data.JPG',\n",
       " 'Golden 9-62H.csv',\n",
       " 'Gunnison 8-30H.csv',\n",
       " 'Problem Set 2.ipynb',\n",
       " 'well_data_.csv',\n",
       " 'Linear Regression Notebook.ipynb',\n",
       " 'Tribal 14-4H.csv',\n",
       " 'Fennel 10-129H.csv',\n",
       " 'Sutherland 11-157H.csv',\n",
       " 'Class Notebook.ipynb',\n",
       " 'Salt 12-135H.csv',\n",
       " '.DS_Store',\n",
       " 'Sutherland 6-34H.csv',\n",
       " 'State 4-189H.csv',\n",
       " 'Clustering Notebook.ipynb',\n",
       " 'Week_08_regression.ipynb',\n",
       " 'Sundae 14-192H.csv',\n",
       " 'Dakota 10-199H.csv',\n",
       " 'Week_12_PyTorch.ipynb',\n",
       " 'Week_05_Linear_regression.ipynb',\n",
       " 'Sundae 7-180H.csv',\n",
       " 'King 13-28H.csv',\n",
       " 'Peak 3-55H.csv',\n",
       " 'Sundae 1-129H.csv',\n",
       " 'Burger 3-45H.csv',\n",
       " 'King 14-184H.csv',\n",
       " 'Brisket 7-105H.csv',\n",
       " 'Burger 6-148H.csv',\n",
       " 'Sundae 1-163H.csv',\n",
       " 'Tarragon 10-11H.csv',\n",
       " 'Brisket 6-50H.csv',\n",
       " 'porositymodule.py',\n",
       " 'Brisket 10-65H.csv',\n",
       " 'Golden 14-27H.csv',\n",
       " 'Week_03b_PythonDataBasics_DataFrame.ipynb',\n",
       " 'Problem Set 3.ipynb',\n",
       " 'Problem Set 1.ipynb',\n",
       " 'Pole 3-201H.csv',\n",
       " 'Federal 3-125H.csv',\n",
       " 'Pepper 8-129H.csv',\n",
       " 'Sundae 8-150H.csv',\n",
       " 'King 5-15H.csv',\n",
       " 'Tarragon 4-119H.csv',\n",
       " 'graph',\n",
       " 'King 13-215H.csv',\n",
       " 'petrophysics.csv',\n",
       " 'Tribal 2-17H.csv',\n",
       " 'Federal 8-38H.csv',\n",
       " 'energyanalytics.yml',\n",
       " 'Golden 7-109H.csv',\n",
       " 'Pole 10-155H.csv',\n",
       " 'well production',\n",
       " 'King 13-150H.csv',\n",
       " 'Golden 11-109H.csv',\n",
       " 'Gunnison 7-24H.csv',\n",
       " 'Week_03a_PythonDataBasics_ndarrays.ipynb',\n",
       " 'State 11-28H.csv',\n",
       " 'Backprop Notebook.ipynb',\n",
       " 'Federal 7-130H.csv',\n",
       " 'Sundae 8-6H.csv',\n",
       " 'reggraph',\n",
       " 'Brisket 9-106H.csv',\n",
       " 'Regression Notebook.ipynb',\n",
       " 'Burger 6-59H.csv',\n",
       " 'King 7-184H.csv',\n",
       " 'Pepper 6-133H.csv',\n",
       " 'Week_05_Linear_regression1.ipynb',\n",
       " 'Federal 8-166H.csv',\n",
       " 'Tribal 8-141H.csv',\n",
       " 'Week_07_Classification.ipynb',\n",
       " 'Laramie 14-76H.csv',\n",
       " 'Gunnison 5-129H.csv',\n",
       " 'Week_04_UnivariateStatistics.ipynb',\n",
       " 'Week_11_Numpy_networks.ipynb',\n",
       " 'King 7-188H.csv',\n",
       " 'Forward Notebook.ipynb',\n",
       " 'Sundae 7-185H.csv',\n",
       " 'Sutherland 5-56H.csv',\n",
       " 'Tribal 6-134H.csv',\n",
       " 'King 14-181H.csv',\n",
       " 'Tribal 4-215H.csv',\n",
       " 'Nonlinear Regression Notebook.ipynb',\n",
       " 'State 10-157H.csv',\n",
       " 'well_data.csv',\n",
       " 'Golden 1-209H.csv',\n",
       " 'Brisket 1-204H.csv',\n",
       " 'Week_04_Multivariate.ipynb',\n",
       " 'Vshale_petrophysics.csv',\n",
       " 'well_locations.jpg',\n",
       " 'Week_06_nonlinear_regression.ipynb',\n",
       " 'Brisket 2-149H.csv',\n",
       " 'Johnson 7-3H.csv',\n",
       " 'Federal 12-111H.csv',\n",
       " 'Pikachu 3-200H.csv',\n",
       " 'Week_13a_Backprop.ipynb',\n",
       " 'Tribal 11-185H.csv',\n",
       " 'Perceptrons Notebook.ipynb',\n",
       " 'Federal 12-25H.csv',\n",
       " '.ipynb_checkpoints',\n",
       " 'King 12-179H.csv',\n",
       " 'Sundae 2-27H.csv',\n",
       " 'Tribal 14-11H.csv',\n",
       " 'well production.csv',\n",
       " 'Dakota 13-166H.csv',\n",
       " 'Sugar 1-146H.csv',\n",
       " 'Class Notes.ipynb',\n",
       " 'Pole 14-200H.csv',\n",
       " 'Brisket 7-212H.csv',\n",
       " 'State 8-197H.csv',\n",
       " 'King 10-202H.csv',\n",
       " 'wellbore_data.JPG',\n",
       " 'Classification Notebook.ipynb',\n",
       " 'Peak 9-46H.csv',\n",
       " 'gas_composition.csv',\n",
       " 'State 3-95H.csv',\n",
       " 'Gunnison 4-93H.csv',\n",
       " 'Final Project.ipynb',\n",
       " 'Burger 2-179H.csv',\n",
       " 'State 4-164H.csv',\n",
       " 'Week_02a_PythonVariables.ipynb',\n",
       " 'State 13-178H.csv',\n",
       " 'Week_02b_PythonDataStructures.ipynb',\n",
       " 'Pikachu 13-133H.csv',\n",
       " 'State 13-31H.csv',\n",
       " 'Pole 11-4H.csv',\n",
       " 'Week_09_clustering.ipynb',\n",
       " 'Week_02c_PythonClassesAndFunctions.ipynb',\n",
       " 'Golden 5-19H.csv',\n",
       " 'Tribal 1-43H.csv',\n",
       " 'Week_10_Perceptrons.ipynb',\n",
       " 'Week_02d_PythonModules.ipynb',\n",
       " 'Golden 8-162H.csv',\n",
       " 'Fennel 8-70H.csv',\n",
       " 'Sundae 2-159H.csv']"
      ]
     },
     "execution_count": 3,
     "metadata": {},
     "output_type": "execute_result"
    }
   ],
   "source": [
    "os.listdir(os.getcwd())"
   ]
  },
  {
   "cell_type": "code",
   "execution_count": 4,
   "metadata": {},
   "outputs": [
    {
     "data": {
      "text/plain": [
       "['Golden 4-21H.csv',\n",
       " 'State 3-156H.csv',\n",
       " 'Federal 3-123H.csv',\n",
       " 'Burger 10-170H.csv',\n",
       " 'Sutherland 1-11H.csv',\n",
       " 'Golden 8-14H.csv',\n",
       " 'Brisket 3-212H.csv',\n",
       " 'Federal 8-142H.csv',\n",
       " 'Laramie 9-10H.csv',\n",
       " 'Brisket 1-44H.csv',\n",
       " 'Gunnison 12-38H.csv',\n",
       " 'Gunnison 13-160H.csv',\n",
       " 'King 2-120H.csv',\n",
       " 'Federal 14-113H.csv',\n",
       " 'Golden 9-62H.csv',\n",
       " 'Gunnison 8-30H.csv',\n",
       " 'Tribal 14-4H.csv',\n",
       " 'Fennel 10-129H.csv',\n",
       " 'Sutherland 11-157H.csv',\n",
       " 'Salt 12-135H.csv',\n",
       " '.DS_Store',\n",
       " 'Sutherland 6-34H.csv',\n",
       " 'State 4-189H.csv',\n",
       " 'Sundae 14-192H.csv',\n",
       " 'Dakota 10-199H.csv',\n",
       " 'Sundae 7-180H.csv',\n",
       " 'King 13-28H.csv',\n",
       " 'Peak 3-55H.csv',\n",
       " 'Sundae 1-129H.csv',\n",
       " 'Burger 3-45H.csv',\n",
       " 'King 14-184H.csv',\n",
       " 'Brisket 7-105H.csv',\n",
       " 'Burger 6-148H.csv',\n",
       " 'Sundae 1-163H.csv',\n",
       " 'Tarragon 10-11H.csv',\n",
       " 'Brisket 6-50H.csv',\n",
       " 'Brisket 10-65H.csv',\n",
       " 'Golden 14-27H.csv',\n",
       " 'Pole 3-201H.csv',\n",
       " 'Federal 3-125H.csv',\n",
       " 'Pepper 8-129H.csv',\n",
       " 'Sundae 8-150H.csv',\n",
       " 'King 5-15H.csv',\n",
       " 'Tarragon 4-119H.csv',\n",
       " 'King 13-215H.csv',\n",
       " 'Tribal 2-17H.csv',\n",
       " 'Federal 8-38H.csv',\n",
       " 'Golden 7-109H.csv',\n",
       " 'Pole 10-155H.csv',\n",
       " 'King 13-150H.csv',\n",
       " 'Golden 11-109H.csv',\n",
       " 'Gunnison 7-24H.csv',\n",
       " 'State 11-28H.csv',\n",
       " 'Federal 7-130H.csv',\n",
       " 'Sundae 8-6H.csv',\n",
       " 'Brisket 9-106H.csv',\n",
       " 'Burger 6-59H.csv',\n",
       " 'King 7-184H.csv',\n",
       " 'Pepper 6-133H.csv',\n",
       " 'Federal 8-166H.csv',\n",
       " 'Tribal 8-141H.csv',\n",
       " 'Laramie 14-76H.csv',\n",
       " 'Gunnison 5-129H.csv',\n",
       " 'King 7-188H.csv',\n",
       " 'Sundae 7-185H.csv',\n",
       " 'Sutherland 5-56H.csv',\n",
       " 'Tribal 6-134H.csv',\n",
       " 'King 14-181H.csv',\n",
       " 'Tribal 4-215H.csv',\n",
       " 'State 10-157H.csv',\n",
       " 'Golden 1-209H.csv',\n",
       " 'Brisket 1-204H.csv',\n",
       " 'Brisket 2-149H.csv',\n",
       " 'Johnson 7-3H.csv',\n",
       " 'Federal 12-111H.csv',\n",
       " 'Pikachu 3-200H.csv',\n",
       " 'Tribal 11-185H.csv',\n",
       " 'Federal 12-25H.csv',\n",
       " 'King 12-179H.csv',\n",
       " 'Sundae 2-27H.csv',\n",
       " 'Tribal 14-11H.csv',\n",
       " 'Dakota 13-166H.csv',\n",
       " 'Sugar 1-146H.csv',\n",
       " 'Pole 14-200H.csv',\n",
       " 'Brisket 7-212H.csv',\n",
       " 'State 8-197H.csv',\n",
       " 'King 10-202H.csv',\n",
       " 'Peak 9-46H.csv',\n",
       " 'State 3-95H.csv',\n",
       " 'Gunnison 4-93H.csv',\n",
       " 'Burger 2-179H.csv',\n",
       " 'State 4-164H.csv',\n",
       " 'State 13-178H.csv',\n",
       " 'Pikachu 13-133H.csv',\n",
       " 'State 13-31H.csv',\n",
       " 'Pole 11-4H.csv',\n",
       " 'Golden 5-19H.csv',\n",
       " 'Tribal 1-43H.csv',\n",
       " 'Golden 8-162H.csv',\n",
       " 'Fennel 8-70H.csv',\n",
       " 'Sundae 2-159H.csv']"
      ]
     },
     "execution_count": 4,
     "metadata": {},
     "output_type": "execute_result"
    }
   ],
   "source": [
    "os.listdir(os.path.join(os.getcwd(), 'well production'))"
   ]
  },
  {
   "cell_type": "markdown",
   "metadata": {},
   "source": [
    "Area of the resevoir: determined by how far the fractures created by propogation go out to. The area here will be calculated with proppant weight and (estimated) thickness of resevoir."
   ]
  },
  {
   "cell_type": "code",
   "execution_count": 5,
   "metadata": {},
   "outputs": [],
   "source": [
    "#volume of proppant: calculated by proppant weight (units converted)\n",
    "#density of quartz: 2.65 gram per cubic centimeter\n",
    "#1 lb = 453.592 g\n",
    "#1 cubic centimeter = 3.53 e^ -5 cubic feet \n",
    "#returns volume in cubic feet \n",
    "\n",
    "def get_volume(weight, por):\n",
    "    return weight * 453.592 * (1 - por) / 2.65 * (3.53 * math.exp(-5))"
   ]
  },
  {
   "cell_type": "code",
   "execution_count": 6,
   "metadata": {},
   "outputs": [],
   "source": [
    "#to get area: volume = area * height (thickness of resevoir)\n",
    "#returns area in square feet \n",
    "def get_area(volume, thickness, well_length):\n",
    "    return volume * well_length / (2 * thickness * 0.4)"
   ]
  },
  {
   "cell_type": "markdown",
   "metadata": {},
   "source": [
    "Summarization: Because well length and area of the reservoir have a direct positive correlation, the maximum the well length returns the maximum area. So we choose 5 miles, 26400 feet, the maximum well length can get to be the well length. "
   ]
  },
  {
   "cell_type": "code",
   "execution_count": 7,
   "metadata": {},
   "outputs": [],
   "source": [
    "areaMin = []\n",
    "areaMax = []\n",
    "porosity = []\n",
    "water_saturation = []\n",
    "files = 0;\n",
    "well_files = []"
   ]
  },
  {
   "cell_type": "code",
   "execution_count": 8,
   "metadata": {},
   "outputs": [
    {
     "name": "stdout",
     "output_type": "stream",
     "text": [
      "['Golden 4-21H.csv', 'State 3-156H.csv', 'Federal 3-123H.csv', 'Burger 10-170H.csv', 'Sutherland 1-11H.csv', 'Golden 8-14H.csv', 'Brisket 3-212H.csv', 'Federal 8-142H.csv', 'Laramie 9-10H.csv', 'Brisket 1-44H.csv', 'Gunnison 12-38H.csv', 'Gunnison 13-160H.csv', 'King 2-120H.csv', 'Federal 14-113H.csv', 'Golden 9-62H.csv', 'Gunnison 8-30H.csv', 'Tribal 14-4H.csv', 'Fennel 10-129H.csv', 'Sutherland 11-157H.csv', 'Salt 12-135H.csv', 'Sutherland 6-34H.csv', 'State 4-189H.csv', 'Sundae 14-192H.csv', 'Dakota 10-199H.csv', 'Sundae 7-180H.csv', 'King 13-28H.csv', 'Peak 3-55H.csv', 'Sundae 1-129H.csv', 'Burger 3-45H.csv', 'King 14-184H.csv', 'Brisket 7-105H.csv', 'Burger 6-148H.csv', 'Sundae 1-163H.csv', 'Tarragon 10-11H.csv', 'Brisket 6-50H.csv', 'Brisket 10-65H.csv', 'Golden 14-27H.csv', 'Pole 3-201H.csv', 'Federal 3-125H.csv', 'Pepper 8-129H.csv', 'Sundae 8-150H.csv', 'King 5-15H.csv', 'Tarragon 4-119H.csv', 'King 13-215H.csv', 'Tribal 2-17H.csv', 'Federal 8-38H.csv', 'Golden 7-109H.csv', 'Pole 10-155H.csv', 'King 13-150H.csv', 'Golden 11-109H.csv', 'Gunnison 7-24H.csv', 'State 11-28H.csv', 'Federal 7-130H.csv', 'Sundae 8-6H.csv', 'Brisket 9-106H.csv', 'Burger 6-59H.csv', 'King 7-184H.csv', 'Pepper 6-133H.csv', 'Federal 8-166H.csv', 'Tribal 8-141H.csv', 'Laramie 14-76H.csv', 'Gunnison 5-129H.csv', 'King 7-188H.csv', 'Sundae 7-185H.csv', 'Sutherland 5-56H.csv', 'Tribal 6-134H.csv', 'King 14-181H.csv', 'Tribal 4-215H.csv', 'State 10-157H.csv', 'Golden 1-209H.csv', 'Brisket 1-204H.csv', 'Brisket 2-149H.csv', 'Johnson 7-3H.csv', 'Federal 12-111H.csv', 'Pikachu 3-200H.csv', 'Tribal 11-185H.csv', 'Federal 12-25H.csv', 'King 12-179H.csv', 'Sundae 2-27H.csv', 'Tribal 14-11H.csv', 'Dakota 13-166H.csv', 'Sugar 1-146H.csv', 'Pole 14-200H.csv', 'Brisket 7-212H.csv', 'State 8-197H.csv', 'King 10-202H.csv', 'Peak 9-46H.csv', 'State 3-95H.csv', 'Gunnison 4-93H.csv', 'Burger 2-179H.csv', 'State 4-164H.csv', 'State 13-178H.csv', 'Pikachu 13-133H.csv', 'State 13-31H.csv', 'Pole 11-4H.csv', 'Golden 5-19H.csv', 'Tribal 1-43H.csv', 'Golden 8-162H.csv', 'Fennel 8-70H.csv', 'Sundae 2-159H.csv']\n"
     ]
    }
   ],
   "source": [
    "for well_file in os.listdir(os.path.join(os.getcwd(), 'well production')):\n",
    "    if (well_file.endswith('.csv')):\n",
    "        files += 1\n",
    "        well_files.append(well_file)\n",
    "        area_file = pd.read_csv(well_file)\n",
    "        area_file = area_file.dropna()\n",
    "        sand_vol  = np.mean(get_volume(area_file['proppant weight (lbs)'], area_file['porosity']))\n",
    "        thickness = 21\n",
    "        area_mean = get_area(sand_vol, thickness, 26400)\n",
    "        areaMin.append(area_mean)\n",
    "        thickness = 79\n",
    "        area_mean = get_area(sand_vol, thickness, 26400)\n",
    "        areaMax.append(area_mean)\n",
    "        porosity_mean = area_file['porosity'].mean()\n",
    "        porosity.append(porosity_mean)\n",
    "        water_saturation_mean = area_file['water saturation'].mean()\n",
    "        water_saturation.append(water_saturation_mean)\n",
    "print(well_files)"
   ]
  },
  {
   "cell_type": "code",
   "execution_count": 9,
   "metadata": {},
   "outputs": [
    {
     "name": "stdout",
     "output_type": "stream",
     "text": [
      "[4189292685.9884415, 4344639727.655664, 4322081032.104948, 4060611855.1316924, 3956652820.757246, 5150509258.556935, 4049843056.2900534, 4752359998.589894, 4546951977.592618, 3730735484.3529525, 4069314516.358777, 4480823010.82008, 4786658640.003478, 3864701647.4901776, 4060130873.7450686, 5311086219.820927, 4242273911.621393, 5120780155.530592, 4604005195.049387, 4598000616.880289, 4855636198.864015, 4167766543.66136, 4221307225.6097555, 4508080433.128704, 4112477294.90103, 3926589482.533763, 5245033670.186418, 4868704585.347733, 5030597031.202657, 4948989158.282363, 3342695456.7673817, 3987333397.262591, 3839662650.864522, 5543555097.915683, 5242822507.347517, 4749440028.791103, 4048777123.4031973, 4217489258.413104, 4199783462.540425, 3714849939.234552, 4573570082.10471, 4936872686.121458, 4385575076.380865, 5103813732.246073, 4300761744.673712, 5154540685.647555, 3755476016.9948373, 4997014129.780221, 4897156489.350297, 4549509822.389851, 4182992599.191788, 4150944623.6412063, 5252943717.5674515, 4529192353.508536, 4076432091.7770343, 4776960197.931142, 4857831637.794898, 3725182345.795145, 4256439016.9597125, 5477378051.077001, 5198768858.899348, 4090912593.3179846, 5054962138.630185, 4096027571.201127, 4460527349.611751, 5451718315.359203, 3167055705.574151, 4507558956.270767, 5031054937.171265, 4155019444.0831227, 4543889322.755718, 5124576047.769624, 5312158705.38974, 4145573139.295578, 4125000503.4373384, 5072064026.786263, 4085558959.8952417, 4927095730.217385, 3853536407.4558783, 5446782859.808675, 5122737357.631233, 5048653605.254175, 4668144010.155253, 5099210069.228786, 4288099301.0741706, 5074119758.613068, 4858966910.246075, 4233620093.3413286, 5832833813.7681875, 4235783423.672291, 4043975643.6198096, 3750671946.9444747, 4960700211.208319, 4329420781.669609, 4208194075.6102715, 4632454719.572935, 4975052372.758125, 4275509387.951134, 4923272941.83492, 4952455030.140653]\n"
     ]
    }
   ],
   "source": [
    "print(areaMin)"
   ]
  },
  {
   "cell_type": "code",
   "execution_count": 10,
   "metadata": {},
   "outputs": [
    {
     "name": "stdout",
     "output_type": "stream",
     "text": [
      "[1113609448.1741426, 1154904231.4021385, 1148907616.1291633, 1079403151.3641207, 1051768471.3405337, 1369122714.2999449, 1076540559.266976, 1263285569.245415, 1208683437.081582, 991714495.8406583, 1081716517.0067635, 1191104850.9774895, 1272402929.621178, 1027325754.3961232, 1079275295.5524867, 1411807729.3194869, 1127693065.1145475, 1361220041.3435752, 1223849482.228318, 1222253328.5377982, 1290738736.40689, 1107887309.0745387, 1122119642.2506945, 1198350494.8823137, 1093190166.999008, 1043776951.0532788, 1394249456.6318326, 1294212611.2949667, 1337247312.0918455, 1315554080.0497422, 888564615.0900636, 1059924067.6267647, 1020669818.58424, 1473603253.8763208, 1393661679.1683273, 1262509374.7419388, 1076257210.0185714, 1121104739.578167, 1116398135.6120117, 987491755.999058, 1215759135.7493532, 1312333245.677856, 1165785779.797445, 1356709979.4578168, 1143240463.7740245, 1370194359.4759326, 998291093.1252099, 1328320211.7137296, 1301775775.650079, 1209363370.5086944, 1111934741.5573108, 1103415659.4489284, 1396352127.4546392, 1203962524.3503704, 1083608530.7255409, 1269824862.7411895, 1291322334.0973778, 990238345.0847853, 1131458472.8627083, 1456011886.995152, 1381951215.6567886, 1087457777.9706035, 1343724112.800429, 1088817455.6357427, 1185709801.7955287, 1449190944.5891554, 841875567.3045211, 1198211874.4517229, 1337369033.931602, 1104498839.5663998, 1207869313.643925, 1362229075.9893935, 1412092820.4200575, 1101987796.5216093, 1096519121.1668873, 1348270184.335589, 1086034660.2253175, 1309734308.0324693, 1024357779.1971322, 1447878988.0504072, 1361740310.256404, 1342047160.8903503, 1240899040.6741812, 1355486220.9342344, 1139874497.7538934, 1348816644.694613, 1291624115.3818681, 1125392683.0401, 1550500127.710531, 1125967745.5331407, 1074980867.2913418, 997014061.8459996, 1318667144.7515783, 1150858688.7982507, 1118633868.2001987, 1231412014.0636916, 1322482276.3027928, 1136527811.9870102, 1308718123.7789028, 1316475387.7589076]\n"
     ]
    }
   ],
   "source": [
    "print(areaMax)"
   ]
  },
  {
   "cell_type": "code",
   "execution_count": 11,
   "metadata": {},
   "outputs": [
    {
     "name": "stdout",
     "output_type": "stream",
     "text": [
      "[0.04147058823529414, 0.06739999999999999, 0.053399999999999954, 0.06676470588235296, 0.0658, 0.033000000000000015, 0.07480000000000003, 0.08139999999999999, 0.0644, 0.07166666666666668, 0.06750000000000002, 0.013235294117647064, 0.024800000000000013, 0.08794117647058826, 0.020588235294117657, 0.03919999999999997, 0.02529411764705883, 0.045200000000000025, 0.049705882352941204, 0.03897959183673472, 0.035294117647058844, 0.08264705882352942, 0.052941176470588255, 0.031176470588235302, 0.04125, 0.084, 0.019800000000000012, 0.05352941176470591, 0.051899999999999974, 0.028399999999999967, 0.038, 0.06400000000000003, 0.07279999999999998, 0.033000000000000015, 0.03880000000000003, 0.0808, 0.03780000000000002, 0.06480000000000002, 0.04933333333333335, 0.05, 0.04200000000000001, 0.06519999999999998, 0.08700000000000001, 0.043800000000000026, 0.08859999999999997, 0.03880000000000003, 0.0697058823529412, 0.044200000000000024, 0.057499999999999996, 0.06120000000000001, 0.07529411764705884, 0.06625000000000003, 0.028529411764705893, 0.05759999999999996, 0.05500000000000003, 0.07764705882352944, 0.05899999999999998, 0.07900000000000001, 0.05960000000000001, 0.037058823529411776, 0.072, 0.06058823529411767, 0.07647058823529414, 0.042400000000000014, 0.02764705882352942, 0.04140000000000001, 0.022222222222222216, 0.02060000000000001, 0.07176470588235295, 0.04858585858585855, 0.03340000000000002, 0.0848, 0.04400000000000001, 0.07819999999999999, 0.07500000000000001, 0.03505050505050503, 0.076, 0.04133333333333334, 0.012222222222222225, 0.02340000000000001, 0.05000000000000002, 0.026764705882352954, 0.04840000000000002, 0.04176470588235297, 0.08440000000000003, 0.050000000000000024, 0.08979999999999999, 0.04882352941176474, 0.018, 0.02555555555555556, 0.07400000000000004, 0.06735294117647062, 0.02040000000000001, 0.08320000000000002, 0.04449999999999996, 0.043000000000000024, 0.08764705882352943, 0.037000000000000005, 0.07079999999999999, 0.065]\n"
     ]
    }
   ],
   "source": [
    "print(porosity)"
   ]
  },
  {
   "cell_type": "code",
   "execution_count": 12,
   "metadata": {},
   "outputs": [
    {
     "name": "stdout",
     "output_type": "stream",
     "text": [
      "[0.13615677865437636, 0.2942094069704845, 0.12028484999150921, 0.1503413401136336, 0.18128738664914998, 0.11961433591096307, 0.24362086243843312, 0.19164079810811224, 0.2718902721634364, 0.20328076085997135, 0.2027034572595634, 0.10597918087316545, 0.11930907509963251, 0.05923421930746026, 0.16725956268003356, 0.25324788347646476, 0.06805938191159301, 0.11163842993647265, 0.12663213586000477, 0.23995247874366946, 0.020149479958379696, 0.0022303322621254357, 0.2313466959605106, 0.12563213669387124, 0.24677990032844263, 0.034092955807245466, 0.19383786985195783, 0.23808976577694646, 0.0, 0.21960632844301567, 0.13460555255007153, 0.30161105593399673, 0.26823574147181456, 0.18200413324080583, 0.04897009699206596, 0.1666348185115458, 0.21094037923352907, 0.08697624447690386, 0.30045141180519813, 0.260254955450598, 0.21805005571257552, 0.2810600930598255, 0.14367381555746228, 0.2792314733475522, 0.12038030543419363, 0.030916499619813385, 0.22346116390696144, 0.02123070494133141, 0.28543953489783147, 0.10900364321009161, 0.21006163529396318, 0.17596308388989423, 0.1734811810904683, 0.1550434320788317, 0.14821097055425353, 0.1703271178744667, 0.08673723611612932, 0.1898949302321805, 0.03029384717577209, 0.1587332315089373, 0.21577799500188047, 0.19129758463966767, 0.20074377961079662, 0.06898654950707858, 0.11085416926937317, 0.10815151390879026, 0.125682064964881, 0.07824293588967572, 0.2959188250026635, 0.15570517265361075, 0.21284578806377993, 0.20553616246964135, 0.1665304182764707, 0.17766447317202355, 0.15198472102789, 0.12746570869054052, 0.16684978485844176, 0.1841519308967453, 0.17450058113009395, 0.034200788553340265, 0.1257562036388451, 0.001618922275909811, 0.06910441964445224, 0.11616250052686516, 0.19931008502147793, 0.11004929580329195, 0.16405303474365138, 0.19580651719732517, 0.1914111759924893, 0.11256692835198003, 0.0, 0.10521192335891007, 0.11670738382572358, 0.22168602399163218, 0.17955987087440295, 0.09262422264624433, 0.145331935307086, 0.11622938661968998, 0.24651850216764987, 0.09648173840289025]\n"
     ]
    }
   ],
   "source": [
    "print(water_saturation)"
   ]
  },
  {
   "cell_type": "code",
   "execution_count": 13,
   "metadata": {},
   "outputs": [],
   "source": [
    "def getOOIP(area, thickness, porosity, water_saturation, FVF):\n",
    "    return 7758 * area * thickness * (1 - water_saturation) / FVF;"
   ]
  },
  {
   "cell_type": "code",
   "execution_count": 14,
   "metadata": {},
   "outputs": [],
   "source": [
    "minOOIP = []\n",
    "maxOOIP = []"
   ]
  },
  {
   "cell_type": "code",
   "execution_count": 15,
   "metadata": {},
   "outputs": [],
   "source": [
    "for i in range(files):\n",
    "    minOOIP.append(getOOIP(areaMin[i], 21, porosity[i], water_saturation[i], 1.6))\n",
    "    maxOOIP.append(getOOIP(areaMax[i], 21, porosity[i], water_saturation[i], 1.6))"
   ]
  },
  {
   "cell_type": "code",
   "execution_count": 16,
   "metadata": {},
   "outputs": [
    {
     "name": "stdout",
     "output_type": "stream",
     "text": [
      "[368489163349748.9, 312232942656890.1, 387154278898901.7, 351305584647003.2, 329843942765536.56, 461713126344029.8, 311908221453311.25, 391167536971289.06, 337105849278705.8, 302655694660879.06, 330362105929908.25, 407900755445005.2, 429244822481514.5, 370208658319800.3, 344269678809793.6, 403839598386066.0, 402565019148078.94, 463206858856881.44, 409432299216476.6, 355843354408940.44, 484456798931540.3, 423431115506050.5, 330389735917941.5, 401360778638937.9, 315409304813820.9, 386189017987222.8, 430546200408339.9, 377716814631748.6, 512234254455921.44, 393259595943996.6, 294550661752889.44, 283549570157121.7, 286097030515151.0, 461730501880217.9, 507701463253513.6, 403020230395363.94, 325299036686219.94, 392089443708523.2, 299153350233961.0, 279815924673721.44, 364152569450438.2, 361404541800980.7, 382397338879318.9, 374575801729554.7, 385202782817960.75, 508627993177690.3, 296945850359792.9, 498012222360218.56, 356313316541944.2, 412752414632475.7, 336456862013808.9, 348291355178465.7, 442083780381129.75, 389676520692321.6, 353558547926934.2, 403559528040499.9, 451738699270700.4, 307282603292494.56, 420277029582371.4, 469197336805597.25, 415134302380548.0, 336866657994627.25, 411389326178758.25, 388300468008197.25, 403839030217377.5, 495077939756696.44, 281951349025338.3, 423064883006198.0, 360687324030872.4, 357203969438622.4, 364197244425531.4, 414554051043325.3, 450826963936621.44, 347122465866063.75, 356185938490080.6, 450626075540312.5, 346596266681314.8, 409307193883009.4, 323910723148335.75, 535643693397638.3, 456019838851386.3, 513240598561774.8, 442480668003608.5, 458906717461491.6, 349605518785576.44, 459807183115597.5, 413591642515113.3, 346674198640748.0, 480237892682557.25, 382752858820130.7, 411772764942032.56, 341726261862112.5, 446166203082510.0, 343110267060444.94, 351553755969485.0, 428003629395420.94, 432956456843416.0, 384748121654944.56, 377724881054861.06, 455623968901138.8]\n"
     ]
    }
   ],
   "source": [
    "print(minOOIP)"
   ]
  },
  {
   "cell_type": "code",
   "execution_count": 17,
   "metadata": {},
   "outputs": [
    {
     "name": "stdout",
     "output_type": "stream",
     "text": [
      "[97952815573983.88, 82998630326515.1, 102914428568062.45, 93385028830216.03, 87680035418686.92, 122733869028159.84, 82912312031892.86, 103981244005026.22, 89610415631048.38, 80452779593398.23, 87817774994026.22, 108429314738545.67, 114103054077364.64, 98409896515389.94, 91514724746907.19, 107349766659587.14, 107010954457084.27, 123130937164487.5, 108836433968936.83, 94591271425161.38, 128779655412181.6, 112557638299076.72, 87825119674389.52, 106690839891363.23, 83842979760635.94, 102657840224451.61, 114448989981963.78, 100405735535021.8, 136163535994612.05, 104537360947138.36, 78298277174818.7, 75373936370880.44, 76051109377445.19, 122738487841576.89, 134958616814225.12, 107131959978514.45, 86471895827982.52, 104226307821253.02, 79521776644470.64, 74381448330989.23, 96800050107078.52, 96069561744564.48, 101649925524882.22, 99570782738236.06, 102395676445280.7, 135204909578879.72, 78934972880451.28, 132382995817273.31, 94716198068111.77, 109718996294708.72, 89437900028987.16, 92583777958832.66, 117515941620300.34, 103584897905553.86, 93983917803362.27, 107275317580386.05, 120082439046641.84, 81682717330916.28, 111719210395313.92, 124723342695158.75, 110352156329006.4, 89546833137812.3, 109356656325999.03, 103219111749014.45, 107349615627404.16, 131602996644185.16, 74949092778887.39, 112460285356077.97, 95878908919599.0, 94952953901405.95, 96811925733369.11, 110197912302656.06, 119840079021127.23, 92273060546675.16, 94682338079641.66, 119786678308184.34, 92133184814020.4, 108803178120799.94, 86102850457152.55, 142386298244941.8, 121220463492140.67, 136431045187307.22, 117621443393364.3, 121987861603687.67, 92933112588570.95, 122227225891487.92, 109942082187561.8, 92153900904502.62, 127658174004224.08, 101744430825604.38, 109458583085856.75, 90838626570941.3, 118601142591553.3, 91206526686953.7, 93450998422268.16, 113773116674732.14, 115089691059642.2, 102274817148782.7, 100407879774077.0, 121115232239543.23]\n"
     ]
    }
   ],
   "source": [
    "print(maxOOIP)"
   ]
  },
  {
   "cell_type": "code",
   "execution_count": 18,
   "metadata": {},
   "outputs": [],
   "source": [
    "recovery_factor_min = 0.01\n",
    "recovery_factor_max = 0.1"
   ]
  },
  {
   "cell_type": "code",
   "execution_count": 19,
   "metadata": {},
   "outputs": [],
   "source": [
    "recoverable_reserves_min = []\n",
    "recoverable_reserves_max = []"
   ]
  },
  {
   "cell_type": "code",
   "execution_count": 20,
   "metadata": {},
   "outputs": [],
   "source": [
    "for i in range(files):\n",
    "    recoverable_reserves_min.append(recovery_factor_min * minOOIP[i])\n",
    "    recoverable_reserves_max.append(recovery_factor_max * maxOOIP[i])"
   ]
  },
  {
   "cell_type": "code",
   "execution_count": 21,
   "metadata": {},
   "outputs": [
    {
     "name": "stdout",
     "output_type": "stream",
     "text": [
      "[3684891633497.489, 3122329426568.9014, 3871542788989.017, 3513055846470.0317, 3298439427655.3657, 4617131263440.298, 3119082214533.113, 3911675369712.8906, 3371058492787.058, 3026556946608.7905, 3303621059299.0825, 4079007554450.052, 4292448224815.145, 3702086583198.0034, 3442696788097.9365, 4038395983860.66, 4025650191480.7896, 4632068588568.814, 4094322992164.766, 3558433544089.4043, 4844567989315.403, 4234311155060.505, 3303897359179.415, 4013607786389.379, 3154093048138.209, 3861890179872.228, 4305462004083.399, 3777168146317.4863, 5122342544559.215, 3932595959439.9663, 2945506617528.8945, 2835495701571.217, 2860970305151.5103, 4617305018802.179, 5077014632535.137, 4030202303953.6396, 3252990366862.199, 3920894437085.232, 2991533502339.61, 2798159246737.2144, 3641525694504.382, 3614045418009.807, 3823973388793.189, 3745758017295.547, 3852027828179.6074, 5086279931776.903, 2969458503597.9287, 4980122223602.186, 3563133165419.442, 4127524146324.757, 3364568620138.089, 3482913551784.6567, 4420837803811.298, 3896765206923.2163, 3535585479269.342, 4035595280404.999, 4517386992707.004, 3072826032924.946, 4202770295823.714, 4691973368055.973, 4151343023805.48, 3368666579946.2725, 4113893261787.5825, 3883004680081.9727, 4038390302173.775, 4950779397566.965, 2819513490253.3833, 4230648830061.98, 3606873240308.7236, 3572039694386.2236, 3641972444255.314, 4145540510433.2534, 4508269639366.215, 3471224658660.6377, 3561859384900.806, 4506260755403.125, 3465962666813.1484, 4093071938830.0938, 3239107231483.3574, 5356436933976.383, 4560198388513.863, 5132405985617.748, 4424806680036.085, 4589067174614.916, 3496055187855.7646, 4598071831155.975, 4135916425151.1333, 3466741986407.48, 4802378926825.572, 3827528588201.307, 4117727649420.3257, 3417262618621.125, 4461662030825.1, 3431102670604.449, 3515537559694.85, 4280036293954.2095, 4329564568434.16, 3847481216549.446, 3777248810548.611, 4556239689011.389]\n"
     ]
    }
   ],
   "source": [
    "print(recoverable_reserves_min)"
   ]
  },
  {
   "cell_type": "code",
   "execution_count": 22,
   "metadata": {},
   "outputs": [
    {
     "name": "stdout",
     "output_type": "stream",
     "text": [
      "[9795281557398.389, 8299863032651.51, 10291442856806.246, 9338502883021.604, 8768003541868.692, 12273386902815.984, 8291231203189.286, 10398124400502.623, 8961041563104.838, 8045277959339.824, 8781777499402.622, 10842931473854.568, 11410305407736.465, 9840989651538.994, 9151472474690.719, 10734976665958.715, 10701095445708.428, 12313093716448.75, 10883643396893.684, 9459127142516.139, 12877965541218.16, 11255763829907.672, 8782511967438.952, 10669083989136.324, 8384297976063.594, 10265784022445.162, 11444898998196.379, 10040573553502.18, 13616353599461.205, 10453736094713.836, 7829827717481.871, 7537393637088.044, 7605110937744.52, 12273848784157.69, 13495861681422.514, 10713195997851.445, 8647189582798.252, 10422630782125.303, 7952177664447.064, 7438144833098.924, 9680005010707.852, 9606956174456.45, 10164992552488.223, 9957078273823.607, 10239567644528.07, 13520490957887.973, 7893497288045.129, 13238299581727.332, 9471619806811.178, 10971899629470.873, 8943790002898.717, 9258377795883.266, 11751594162030.035, 10358489790555.387, 9398391780336.227, 10727531758038.605, 12008243904664.186, 8168271733091.629, 11171921039531.393, 12472334269515.875, 11035215632900.64, 8954683313781.23, 10935665632599.904, 10321911174901.445, 10734961562740.416, 13160299664418.516, 7494909277888.739, 11246028535607.797, 9587890891959.9, 9495295390140.596, 9681192573336.912, 11019791230265.607, 11984007902112.725, 9227306054667.516, 9468233807964.166, 11978667830818.436, 9213318481402.041, 10880317812079.994, 8610285045715.255, 14238629824494.182, 12122046349214.068, 13643104518730.723, 11762144339336.43, 12198786160368.768, 9293311258857.096, 12222722589148.793, 10994208218756.18, 9215390090450.264, 12765817400422.408, 10174443082560.438, 10945858308585.676, 9083862657094.13, 11860114259155.33, 9120652668695.371, 9345099842226.816, 11377311667473.215, 11508969105964.22, 10227481714878.271, 10040787977407.701, 12111523223954.324]\n"
     ]
    }
   ],
   "source": [
    "print(recoverable_reserves_max)"
   ]
  },
  {
   "cell_type": "code",
   "execution_count": 23,
   "metadata": {},
   "outputs": [],
   "source": [
    "locationFile = pd.read_csv(\"well_data_.csv\")"
   ]
  },
  {
   "cell_type": "code",
   "execution_count": 24,
   "metadata": {},
   "outputs": [
    {
     "data": {
      "text/html": [
       "<div>\n",
       "<style scoped>\n",
       "    .dataframe tbody tr th:only-of-type {\n",
       "        vertical-align: middle;\n",
       "    }\n",
       "\n",
       "    .dataframe tbody tr th {\n",
       "        vertical-align: top;\n",
       "    }\n",
       "\n",
       "    .dataframe thead th {\n",
       "        text-align: right;\n",
       "    }\n",
       "</style>\n",
       "<table border=\"1\" class=\"dataframe\">\n",
       "  <thead>\n",
       "    <tr style=\"text-align: right;\">\n",
       "      <th></th>\n",
       "      <th>well name</th>\n",
       "      <th>avg proppant weight</th>\n",
       "      <th>avg pump rate</th>\n",
       "      <th>num frac stages</th>\n",
       "      <th>pred production</th>\n",
       "    </tr>\n",
       "  </thead>\n",
       "  <tbody>\n",
       "    <tr>\n",
       "      <th>0</th>\n",
       "      <td>Brisket 3-212H</td>\n",
       "      <td>684992.449778</td>\n",
       "      <td>292.153079</td>\n",
       "      <td>25</td>\n",
       "      <td>44706.589585</td>\n",
       "    </tr>\n",
       "    <tr>\n",
       "      <th>1</th>\n",
       "      <td>Laramie 14-76H</td>\n",
       "      <td>877016.788159</td>\n",
       "      <td>298.515356</td>\n",
       "      <td>50</td>\n",
       "      <td>95059.346916</td>\n",
       "    </tr>\n",
       "    <tr>\n",
       "      <th>2</th>\n",
       "      <td>Peak 3-55H</td>\n",
       "      <td>836894.990963</td>\n",
       "      <td>307.676437</td>\n",
       "      <td>50</td>\n",
       "      <td>9100.660008</td>\n",
       "    </tr>\n",
       "    <tr>\n",
       "      <th>3</th>\n",
       "      <td>State 4-189H</td>\n",
       "      <td>711049.925353</td>\n",
       "      <td>305.655797</td>\n",
       "      <td>34</td>\n",
       "      <td>105064.454447</td>\n",
       "    </tr>\n",
       "    <tr>\n",
       "      <th>4</th>\n",
       "      <td>Federal 12-111H</td>\n",
       "      <td>702813.004769</td>\n",
       "      <td>308.407084</td>\n",
       "      <td>50</td>\n",
       "      <td>92886.729934</td>\n",
       "    </tr>\n",
       "  </tbody>\n",
       "</table>\n",
       "</div>"
      ],
      "text/plain": [
       "         well name  avg proppant weight  avg pump rate  num frac stages  \\\n",
       "0   Brisket 3-212H        684992.449778     292.153079               25   \n",
       "1   Laramie 14-76H        877016.788159     298.515356               50   \n",
       "2       Peak 3-55H        836894.990963     307.676437               50   \n",
       "3     State 4-189H        711049.925353     305.655797               34   \n",
       "4  Federal 12-111H        702813.004769     308.407084               50   \n",
       "\n",
       "   pred production  \n",
       "0     44706.589585  \n",
       "1     95059.346916  \n",
       "2      9100.660008  \n",
       "3    105064.454447  \n",
       "4     92886.729934  "
      ]
     },
     "execution_count": 24,
     "metadata": {},
     "output_type": "execute_result"
    }
   ],
   "source": [
    "locationFile.head()"
   ]
  },
  {
   "cell_type": "code",
   "execution_count": 25,
   "metadata": {},
   "outputs": [
    {
     "data": {
      "text/plain": [
       "Text(0, 0.5, 'pred production')"
      ]
     },
     "execution_count": 25,
     "metadata": {},
     "output_type": "execute_result"
    },
    {
     "data": {
      "image/png": "[encoded data removed]",
      "text/plain": [
       "<Figure size 432x288 with 1 Axes>"
      ]
     },
     "metadata": {
      "needs_background": "light"
     },
     "output_type": "display_data"
    }
   ],
   "source": [
    "X = locationFile['avg pump rate'].values\n",
    "y = locationFile['pred production'].values\n",
    "plt.scatter(X,y, alpha=0.25)\n",
    "plt.xlabel('avg pump rate')\n",
    "plt.ylabel('pred production')"
   ]
  },
  {
   "cell_type": "markdown",
   "metadata": {},
   "source": [
    "Summarization: From the graph, we can notice that pump rate in the range of 300 to 310 are producing the same production. So we choose the lowest, 300 as the pump rate to minimize the cost. "
   ]
  },
  {
   "cell_type": "code",
   "execution_count": 26,
   "metadata": {},
   "outputs": [
    {
     "data": {
      "text/plain": [
       "Text(0, 0.5, 'pred production')"
      ]
     },
     "execution_count": 26,
     "metadata": {},
     "output_type": "execute_result"
    },
    {
     "data": {
      "image/png": "[encoded data removed]",
      "text/plain": [
       "<Figure size 432x288 with 1 Axes>"
      ]
     },
     "metadata": {
      "needs_background": "light"
     },
     "output_type": "display_data"
    }
   ],
   "source": [
    "X = locationFile['avg proppant weight'].values\n",
    "y = locationFile['pred production'].values\n",
    "plt.scatter(X,y, alpha=0.25)\n",
    "plt.xlabel('avg proppant weight')\n",
    "plt.ylabel('pred production')"
   ]
  },
  {
   "cell_type": "markdown",
   "metadata": {},
   "source": [
    "Summarization: From the graph, we can notice proppant weight does not have correlation with production. So we will take the average of the surrounding wells as the proppant weight. "
   ]
  },
  {
   "cell_type": "code",
   "execution_count": 27,
   "metadata": {},
   "outputs": [
    {
     "data": {
      "text/plain": [
       "Text(0, 0.5, 'pred production')"
      ]
     },
     "execution_count": 27,
     "metadata": {},
     "output_type": "execute_result"
    },
    {
     "data": {
      "image/png": "[encoded data removed]",
      "text/plain": [
       "<Figure size 432x288 with 1 Axes>"
      ]
     },
     "metadata": {
      "needs_background": "light"
     },
     "output_type": "display_data"
    }
   ],
   "source": [
    "X = locationFile['num frac stages'].values\n",
    "y = locationFile['pred production'].values\n",
    "plt.scatter(X,y, alpha=0.25)\n",
    "plt.xlabel('num frac stages')\n",
    "plt.ylabel('pred production')"
   ]
  },
  {
   "cell_type": "markdown",
   "metadata": {},
   "source": [
    "Summarization: From the graph, we can notice that 50 frac stages is optimal. So we will choose 50 frac stages as the frac stage number. "
   ]
  },
  {
   "cell_type": "code",
   "execution_count": null,
   "metadata": {},
   "outputs": [],
   "source": []
  }
 ],
 "metadata": {
  "kernelspec": {
   "display_name": "Python 3",
   "language": "python",
   "name": "python3"
  },
  "language_info": {
   "codemirror_mode": {
    "name": "ipython",
    "version": 3
   },
   "file_extension": ".py",
   "mimetype": "text/x-python",
   "name": "python",
   "nbconvert_exporter": "python",
   "pygments_lexer": "ipython3",
   "version": "3.8.3"
  }
 },
 "nbformat": 4,
 "nbformat_minor": 4
}
