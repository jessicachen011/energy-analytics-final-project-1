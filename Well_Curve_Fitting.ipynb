{
  "nbformat": 4,
  "nbformat_minor": 0,
  "metadata": {
    "anaconda-cloud": {},
    "kernelspec": {
      "display_name": "Python [conda env:binder]",
      "language": "python",
      "name": "conda-env-binder-py"
    },
    "language_info": {
      "codemirror_mode": {
        "name": "ipython",
        "version": 2
      },
      "file_extension": ".py",
      "mimetype": "text/x-python",
      "name": "python",
      "nbconvert_exporter": "python",
      "pygments_lexer": "ipython2",
      "version": "2.7.11"
    },
    "colab": {
      "name": "Well Curve Fitting.ipynb",
      "provenance": [],
      "collapsed_sections": []
    }
  },
  "cells": [
    {
      "cell_type": "markdown",
      "metadata": {
        "id": "SxYsRh3nzfke"
      },
      "source": [
        "# Well Decline Curve Fitting"
      ]
    },
    {
      "cell_type": "markdown",
      "metadata": {
        "id": "FpLRqGGfzfkf"
      },
      "source": [
        "First, let's import the necessary libraries"
      ]
    },
    {
      "cell_type": "code",
      "metadata": {
        "id": "NSdaPEAgzfkf"
      },
      "source": [
        "from scipy.optimize import curve_fit\n",
        "import pandas as pd\n",
        "import numpy as np\n",
        "import matplotlib.pyplot as plt\n",
        "import math\n",
        "import os\n",
        "%matplotlib inline"
      ],
      "execution_count": 5,
      "outputs": []
    },
    {
      "cell_type": "markdown",
      "metadata": {
        "id": "koXORgXyzfkf"
      },
      "source": [
        "Let's define three decline curve functions that we can pass into ``curve_fit``:\n",
        "``exponential``, ``hyperbolic``, and ``harmonic``\n",
        "\n",
        "**Exponential Decline**\n",
        "$$q(\\Delta t)=q_i e^{-a\\Delta t}$$\n",
        "where $q_i$ is the initial rate, and $a$ is the decline rate. The exponential decline curve has one fitting parameter: $a$\n",
        "\n",
        "**Hyperbolic Decline**\n",
        "$$q(\\Delta t)=\\frac{q_i}{(1+ba_i\\Delta t)^{(\\frac{1}{b})}}$$\n",
        "where $q_i$ is the initial rate, and $a_i$ is the decline rate, $b$ fractional exponent. The hyperbolic decline curve has two fitting parameters: $a_i$ and $b$\n",
        "\n",
        "**Harmonic Decline**\n",
        "$$q(\\Delta t)=\\frac{q_i}{(1+a_i\\Delta t)}$$\n",
        "where $q_i$ is the initial rate, and $a_i$ is the decline rate. The harmonic decline curve has one fitting parameter: $a_i$"
      ]
    },
    {
      "cell_type": "code",
      "metadata": {
        "id": "I14T01Aszfkf"
      },
      "source": [
        "def decline_curve(curve_type, q_i):\n",
        "    if curve_type == \"exponential\":\n",
        "        def exponential_decline(T, a):\n",
        "            return q_i*((np.exp(-a*T)))\n",
        "        return exponential_decline\n",
        "    \n",
        "    elif curve_type == \"hyperbolic\":\n",
        "        def hyperbolic_decline(T, a_i, b):\n",
        "            return q_i/np.power((1+b*a_i*T), 1./b)\n",
        "        return hyperbolic_decline\n",
        "    \n",
        "    elif curve_type == \"harmonic\":\n",
        "        def parabolic_decline(T, a_i):\n",
        "            return q_i/(1+a_i*T)\n",
        "        return parabolic_decline\n",
        "    \n",
        "    else:\n",
        "        raise \"I don't know this decline curve!\"\n",
        "\n",
        "def L2_norm(pred, actual):\n",
        "    return np.sum(np.power(np.subtract(pred, actual), 2))"
      ],
      "execution_count": 6,
      "outputs": []
    },
    {
      "cell_type": "markdown",
      "metadata": {
        "id": "zutCefhsTDqM"
      },
      "source": [
        "# Production Estimation for a Single Well"
      ]
    },
    {
      "cell_type": "code",
      "metadata": {
        "id": "DsNG8-Juzfkf",
        "colab": {
          "base_uri": "https://localhost:8080/",
          "height": 343
        },
        "outputId": "d9bac4ea-edca-4375-e164-a65104fc1b8e"
      },
      "source": [
        "df = pd.read_csv(r'well production.csv')\n",
        "Q = df.loc[4][3:15] # oil prod\n",
        "# Convert elements to floats\n",
        "T = [float(x) for x in range(0, 12, 1)] # months: [1.0, 2.0, 3.0, 4.0, 5.0, 6.0, 7.0, 8.0, 9.0, 10.0, 11.0, 12.0]\n",
        "Q = [float(x) for x in Q]\n",
        "df.head()"
      ],
      "execution_count": 8,
      "outputs": [
        {
          "output_type": "execute_result",
          "data": {
            "text/html": [
              "<div>\n",
              "<style scoped>\n",
              "    .dataframe tbody tr th:only-of-type {\n",
              "        vertical-align: middle;\n",
              "    }\n",
              "\n",
              "    .dataframe tbody tr th {\n",
              "        vertical-align: top;\n",
              "    }\n",
              "\n",
              "    .dataframe thead th {\n",
              "        text-align: right;\n",
              "    }\n",
              "</style>\n",
              "<table border=\"1\" class=\"dataframe\">\n",
              "  <thead>\n",
              "    <tr style=\"text-align: right;\">\n",
              "      <th></th>\n",
              "      <th>Unnamed: 0</th>\n",
              "      <th>well name</th>\n",
              "      <th>average pressure (Pa)</th>\n",
              "      <th>oil 1</th>\n",
              "      <th>oil 2</th>\n",
              "      <th>oil 3</th>\n",
              "      <th>oil 4</th>\n",
              "      <th>oil 5</th>\n",
              "      <th>oil 6</th>\n",
              "      <th>oil 7</th>\n",
              "      <th>oil 8</th>\n",
              "      <th>oil 9</th>\n",
              "      <th>oil 10</th>\n",
              "      <th>oil 11</th>\n",
              "      <th>oil 12</th>\n",
              "      <th>water 1</th>\n",
              "      <th>water 2</th>\n",
              "      <th>water 3</th>\n",
              "      <th>water 4</th>\n",
              "      <th>water 5</th>\n",
              "      <th>water 6</th>\n",
              "      <th>water 7</th>\n",
              "      <th>water 8</th>\n",
              "      <th>water 9</th>\n",
              "      <th>water 10</th>\n",
              "      <th>water 11</th>\n",
              "      <th>water 12</th>\n",
              "    </tr>\n",
              "  </thead>\n",
              "  <tbody>\n",
              "    <tr>\n",
              "      <th>0</th>\n",
              "      <td>0</td>\n",
              "      <td>Tarragon 4-119H</td>\n",
              "      <td>26180969</td>\n",
              "      <td>10809.0</td>\n",
              "      <td>10108.0</td>\n",
              "      <td>9352.0</td>\n",
              "      <td>8626.0</td>\n",
              "      <td>7856.0</td>\n",
              "      <td>7137.0</td>\n",
              "      <td>6430.0</td>\n",
              "      <td>5678.0</td>\n",
              "      <td>4922.0</td>\n",
              "      <td>4205.0</td>\n",
              "      <td>3477.0</td>\n",
              "      <td>2724.0</td>\n",
              "      <td>1853.0</td>\n",
              "      <td>1720.0</td>\n",
              "      <td>1600.0</td>\n",
              "      <td>1481.0</td>\n",
              "      <td>1367.0</td>\n",
              "      <td>1237.0</td>\n",
              "      <td>1069.0</td>\n",
              "      <td>982.0</td>\n",
              "      <td>857.0</td>\n",
              "      <td>733.0</td>\n",
              "      <td>593.0</td>\n",
              "      <td>472.0</td>\n",
              "    </tr>\n",
              "    <tr>\n",
              "      <th>1</th>\n",
              "      <td>1</td>\n",
              "      <td>Fennel 10-129H</td>\n",
              "      <td>36433680</td>\n",
              "      <td>2049.0</td>\n",
              "      <td>1932.0</td>\n",
              "      <td>1784.0</td>\n",
              "      <td>1649.0</td>\n",
              "      <td>1499.0</td>\n",
              "      <td>1364.0</td>\n",
              "      <td>1226.0</td>\n",
              "      <td>1093.0</td>\n",
              "      <td>969.0</td>\n",
              "      <td>804.0</td>\n",
              "      <td>689.0</td>\n",
              "      <td>542.0</td>\n",
              "      <td>297.0</td>\n",
              "      <td>256.0</td>\n",
              "      <td>254.0</td>\n",
              "      <td>210.0</td>\n",
              "      <td>205.0</td>\n",
              "      <td>200.0</td>\n",
              "      <td>157.0</td>\n",
              "      <td>148.0</td>\n",
              "      <td>136.0</td>\n",
              "      <td>97.0</td>\n",
              "      <td>91.0</td>\n",
              "      <td>87.0</td>\n",
              "    </tr>\n",
              "    <tr>\n",
              "      <th>2</th>\n",
              "      <td>2</td>\n",
              "      <td>Federal 14-113H</td>\n",
              "      <td>36642888</td>\n",
              "      <td>11699.0</td>\n",
              "      <td>10905.0</td>\n",
              "      <td>10149.0</td>\n",
              "      <td>9365.0</td>\n",
              "      <td>8521.0</td>\n",
              "      <td>7732.0</td>\n",
              "      <td>6919.0</td>\n",
              "      <td>6124.0</td>\n",
              "      <td>5338.0</td>\n",
              "      <td>4536.0</td>\n",
              "      <td>3781.0</td>\n",
              "      <td>2954.0</td>\n",
              "      <td>827.0</td>\n",
              "      <td>762.0</td>\n",
              "      <td>720.0</td>\n",
              "      <td>661.0</td>\n",
              "      <td>617.0</td>\n",
              "      <td>541.0</td>\n",
              "      <td>466.0</td>\n",
              "      <td>435.0</td>\n",
              "      <td>394.0</td>\n",
              "      <td>340.0</td>\n",
              "      <td>266.0</td>\n",
              "      <td>213.0</td>\n",
              "    </tr>\n",
              "    <tr>\n",
              "      <th>3</th>\n",
              "      <td>3</td>\n",
              "      <td>King 7-184H</td>\n",
              "      <td>30429506</td>\n",
              "      <td>5980.0</td>\n",
              "      <td>5580.0</td>\n",
              "      <td>5176.0</td>\n",
              "      <td>4789.0</td>\n",
              "      <td>4405.0</td>\n",
              "      <td>3978.0</td>\n",
              "      <td>3581.0</td>\n",
              "      <td>3159.0</td>\n",
              "      <td>2735.0</td>\n",
              "      <td>2338.0</td>\n",
              "      <td>1914.0</td>\n",
              "      <td>1536.0</td>\n",
              "      <td>608.0</td>\n",
              "      <td>560.0</td>\n",
              "      <td>502.0</td>\n",
              "      <td>471.0</td>\n",
              "      <td>453.0</td>\n",
              "      <td>417.0</td>\n",
              "      <td>346.0</td>\n",
              "      <td>343.0</td>\n",
              "      <td>275.0</td>\n",
              "      <td>231.0</td>\n",
              "      <td>238.0</td>\n",
              "      <td>164.0</td>\n",
              "    </tr>\n",
              "    <tr>\n",
              "      <th>4</th>\n",
              "      <td>4</td>\n",
              "      <td>Sundae 1-129H</td>\n",
              "      <td>42591950</td>\n",
              "      <td>3892.0</td>\n",
              "      <td>3646.0</td>\n",
              "      <td>3399.0</td>\n",
              "      <td>3133.0</td>\n",
              "      <td>2834.0</td>\n",
              "      <td>2577.0</td>\n",
              "      <td>2309.0</td>\n",
              "      <td>2063.0</td>\n",
              "      <td>1800.0</td>\n",
              "      <td>1545.0</td>\n",
              "      <td>1279.0</td>\n",
              "      <td>1007.0</td>\n",
              "      <td>1247.0</td>\n",
              "      <td>1166.0</td>\n",
              "      <td>1096.0</td>\n",
              "      <td>974.0</td>\n",
              "      <td>902.0</td>\n",
              "      <td>806.0</td>\n",
              "      <td>790.0</td>\n",
              "      <td>668.0</td>\n",
              "      <td>570.0</td>\n",
              "      <td>468.0</td>\n",
              "      <td>394.0</td>\n",
              "      <td>322.0</td>\n",
              "    </tr>\n",
              "  </tbody>\n",
              "</table>\n",
              "</div>"
            ],
            "text/plain": [
              "   Unnamed: 0        well name  ...  water 11  water 12\n",
              "0           0  Tarragon 4-119H  ...     593.0     472.0\n",
              "1           1   Fennel 10-129H  ...      91.0      87.0\n",
              "2           2  Federal 14-113H  ...     266.0     213.0\n",
              "3           3      King 7-184H  ...     238.0     164.0\n",
              "4           4    Sundae 1-129H  ...     394.0     322.0\n",
              "\n",
              "[5 rows x 27 columns]"
            ]
          },
          "metadata": {
            "tags": []
          },
          "execution_count": 8
        }
      ]
    },
    {
      "cell_type": "markdown",
      "metadata": {
        "id": "y76Ysl2Wzfkf"
      },
      "source": [
        "Let's define our decline curves using our initial rate. We then pass these on to scipy.optimize.curve_fit and compute the L2 norm of the resulting fits (using the following equation): $$Error_{L2}=\\sum{|{q(t)-q_{obs}(t)}|^2}$$"
      ]
    },
    {
      "cell_type": "code",
      "metadata": {
        "colab": {
          "base_uri": "https://localhost:8080/"
        },
        "id": "liE3KwZrzfkg",
        "outputId": "0db16ba8-9406-4e50-fe5f-d87587a19e77"
      },
      "source": [
        "# Decline curve function (using initial rate)\n",
        "exp_decline = decline_curve(\"exponential\", Q[0])\n",
        "hyp_decline = decline_curve(\"hyperbolic\", Q[0])\n",
        "har_decline = decline_curve(\"harmonic\", Q[0])\n",
        "\n",
        "# Store the optimized parameters for the fitted curves (T = time = x, Q = oil prod = y)\n",
        "popt_exp, _ = curve_fit(exp_decline, T, Q, method=\"trf\")\n",
        "popt_hyp, _ = curve_fit(hyp_decline, T, Q, method=\"trf\")\n",
        "popt_har, _ = curve_fit(har_decline, T, Q, method=\"trf\")\n",
        "\n",
        "print(\"L2 Norm of exponential decline       : \" + str(L2_norm(exp_decline(np.array(T), popt_exp[0]), Q)))\n",
        "print(\"L2 Norm of hyperbolic decline: \" + str(L2_norm(hyp_decline(np.array(T), popt_hyp[0], popt_hyp[1]), Q)))\n",
        "print(\"L2 Norm of harmonic decline decline  : \" + str(L2_norm(har_decline(np.array(T), popt_har[0]), Q)))\n",
        "\n",
        "L2_norms = [L2_norm(exp_decline(np.array(T), popt_exp[0]), Q), L2_norm(hyp_decline(np.array(T), popt_hyp[0], popt_hyp[1]), Q), L2_norm(har_decline(np.array(T), popt_har[0]), Q)]\n",
        "best_fit = L2_norms.index(min(L2_norms))"
      ],
      "execution_count": 9,
      "outputs": [
        {
          "output_type": "stream",
          "text": [
            "L2 Norm of exponential decline       : 349578.4953459189\n",
            "L2 Norm of hyperbolic decline: 2210.868949459795\n",
            "L2 Norm of harmonic decline decline  : 980022.8883363877\n"
          ],
          "name": "stdout"
        }
      ]
    },
    {
      "cell_type": "markdown",
      "metadata": {
        "id": "HTTJX5cQzfkg"
      },
      "source": [
        "As we can see the hyperbolic decline fits the data much better than the other decline curves. Let's now visualise the results using matplotlib."
      ]
    },
    {
      "cell_type": "code",
      "metadata": {
        "id": "slz2kxeBzfkg",
        "colab": {
          "base_uri": "https://localhost:8080/",
          "height": 566
        },
        "outputId": "7844f241-802e-434d-f402-7311fbce313e"
      },
      "source": [
        "fig, ax = plt.subplots(1, figsize=(8, 8))\n",
        "\n",
        "ax.set_title(\"Well Decline Curve Fitting\", fontsize=30)\n",
        "\n",
        "# Set size of tick labels\n",
        "label_size = 20\n",
        "yed = [tick.label.set_fontsize(label_size) for tick in ax.yaxis.get_major_ticks()]\n",
        "xed = [tick.label.set_fontsize(label_size) for tick in ax.xaxis.get_major_ticks()]\n",
        "\n",
        "ax.set_xlim(min(T), max(T))\n",
        "\n",
        "# Plot actual datapoints\n",
        "ax.scatter(T, Q, color=\"black\", marker=\"x\", s=100, linewidth=3)\n",
        "\n",
        "# Axis labels\n",
        "ax.set_xlabel(\"Time (months)\", fontsize=25)\n",
        "ax.set_ylabel(\"Oil Production\", fontsize=25)\n",
        "\n",
        "# Define the three prediction curves\n",
        "pred_exp = exp_decline(np.array(T), popt_exp[0]).tolist()\n",
        "pred_hyp = hyp_decline(np.array(T), popt_hyp[0], popt_hyp[1]).tolist()\n",
        "pred_har = har_decline(np.array(T), popt_har[0]).tolist()\n",
        "\n",
        "# Calculate min and max value for y-axis limits\n",
        "min_val = min([min(curve) for curve in [pred_exp, pred_hyp, pred_har]])\n",
        "max_val = max([max(curve) for curve in [pred_exp, pred_hyp, pred_har]])\n",
        "ax.set_ylim(min_val, max_val)\n",
        "\n",
        "# Plot the data\n",
        "ax.plot(T, pred_exp, color=\"red\", linewidth=5, alpha=0.5, label=\"Exponential\")\n",
        "ax.plot(T, pred_hyp, color=\"green\", linewidth=5, alpha=0.5, label=\"Hyperbolic\")\n",
        "ax.plot(T, pred_har, color=\"blue\", linewidth=5, alpha=0.5, label=\"Harmonic\")\n",
        "\n",
        "ax.legend(fontsize=25)"
      ],
      "execution_count": 10,
      "outputs": [
        {
          "output_type": "execute_result",
          "data": {
            "text/plain": [
              "<matplotlib.legend.Legend at 0x7f2f89869c88>"
            ]
          },
          "metadata": {
            "tags": []
          },
          "execution_count": 10
        },
        {
          "output_type": "display_data",
          "data": {
            "image/png": "[encoded data removed]",
            "text/plain": [
              "<Figure size 576x576 with 1 Axes>"
            ]
          },
          "metadata": {
            "tags": [],
            "needs_background": "light"
          }
        }
      ]
    },
    {
      "cell_type": "markdown",
      "metadata": {
        "id": "1JKzzBC8KbFV"
      },
      "source": [
        "Let's also visualize production predictions for the three curves over the next 36 months"
      ]
    },
    {
      "cell_type": "code",
      "metadata": {
        "id": "VoOJtxzVzfkg",
        "colab": {
          "base_uri": "https://localhost:8080/",
          "height": 600
        },
        "outputId": "ac5996c0-d69a-4f6f-db64-e7076e36c214"
      },
      "source": [
        "fig, ax = plt.subplots(1, figsize=(8, 8))\n",
        "\n",
        "# Number of months for prediction\n",
        "T_max = 36.0\n",
        "T_pred = np.linspace(min(T), T_max)\n",
        "\n",
        "ax.set_title(\"Well Decline Curve Fitting\", fontsize=30)\n",
        "\n",
        "# Set size of tick labels\n",
        "label_size = 20\n",
        "yed = [tick.label.set_fontsize(label_size) for tick in ax.yaxis.get_major_ticks()]\n",
        "xed = [tick.label.set_fontsize(label_size) for tick in ax.xaxis.get_major_ticks()]\n",
        "\n",
        "ax.set_xlim(min(T), max(T_pred))\n",
        "\n",
        "# Plot actual datapoints\n",
        "ax.scatter(T, Q, color=\"black\", marker=\"x\", s=100, linewidth=3)\n",
        "ax.set_xlabel(\"Time (months)\", fontsize=25)\n",
        "ax.set_ylabel(\"Oil Rate\", fontsize=25)\n",
        "\n",
        "# Define the three prediction curves\n",
        "pred_exp = exp_decline(T_pred, popt_exp[0])\n",
        "pred_hyp = hyp_decline(T_pred, popt_hyp[0], popt_hyp[1])\n",
        "pred_har = har_decline(T_pred, popt_har[0])\n",
        "\n",
        "# Calculate min and max value for y-axis limits\n",
        "min_val = min([min(curve) for curve in [pred_exp, pred_hyp, pred_har]])\n",
        "max_val = max([max(curve) for curve in [pred_exp, pred_hyp, pred_har]])\n",
        "ax.set_ylim(min_val, max_val)\n",
        "\n",
        "# Plot the data\n",
        "ax.plot(T_pred, pred_exp, color=\"red\", linewidth=5, alpha=0.5, label=\"Exponential\")\n",
        "ax.plot(T_pred, pred_hyp, color=\"green\", linewidth=5, alpha=0.5, label=\"Hyperbolic\")\n",
        "ax.plot(T_pred, pred_har, color=\"blue\", linewidth=5, alpha=0.5, label=\"Harmonic\")\n",
        "ax.legend(fontsize=25)"
      ],
      "execution_count": 11,
      "outputs": [
        {
          "output_type": "stream",
          "text": [
            "/usr/local/lib/python3.6/dist-packages/ipykernel_launcher.py:9: RuntimeWarning: invalid value encountered in power\n",
            "  if __name__ == '__main__':\n"
          ],
          "name": "stderr"
        },
        {
          "output_type": "execute_result",
          "data": {
            "text/plain": [
              "<matplotlib.legend.Legend at 0x7f2f87b470b8>"
            ]
          },
          "metadata": {
            "tags": []
          },
          "execution_count": 11
        },
        {
          "output_type": "display_data",
          "data": {
            "image/png": "[encoded data removed]",
            "text/plain": [
              "<Figure size 576x576 with 1 Axes>"
            ]
          },
          "metadata": {
            "tags": [],
            "needs_background": "light"
          }
        }
      ]
    },
    {
      "cell_type": "code",
      "metadata": {
        "colab": {
          "base_uri": "https://localhost:8080/"
        },
        "id": "zXMHIjrkDQGb",
        "outputId": "3a29ed66-f8e6-47b1-8eb0-573bb4b63965"
      },
      "source": [
        "# Store the prediction curves\n",
        "pred_curves = [pred_exp, pred_hyp, pred_har]\n",
        "\n",
        "# Oil threshold - monthly production at which drilling is no longer viable\n",
        "oil_threshold = 35\n",
        "\n",
        "# Estimate cumulative oil production (until oil threshold is reached)\n",
        "last_month = next(month for month, pred_oil in enumerate(pred_curves[best_fit]) if pred_oil < oil_threshold or math.isnan(pred_oil)) - 1 # This is the last month oil drilling is profitable\n",
        "\n",
        "# Print cumulative production estimate for the optimally fitted curve\n",
        "curve_fit_names = ['exponential', 'hyperbolic', 'harmonic']\n",
        "print('Cumulative production estimate ' + 'using a(n) ' + curve_fit_names[best_fit] + ' decline curve over ' + str(last_month) + ' months: ' + str(np.sum(pred_curves[best_fit][0:last_month+1]))) # Left Riemann sum to estimate integral of optimally fitted production curve"
      ],
      "execution_count": 12,
      "outputs": [
        {
          "output_type": "stream",
          "text": [
            "Cumulative production estimate using a(n) hyperbolic decline curve over 19 months: 41288.07601336715\n"
          ],
          "name": "stdout"
        }
      ]
    },
    {
      "cell_type": "markdown",
      "metadata": {
        "id": "StawzcMATLKT"
      },
      "source": [
        "# Production Estimation and Proppant/Pump Averaging for all Wells"
      ]
    },
    {
      "cell_type": "code",
      "metadata": {
        "colab": {
          "base_uri": "https://localhost:8080/"
        },
        "id": "dYY-1VjhTS2r",
        "outputId": "67f1c2f5-090e-4950-d694-31cc20d2fc9d"
      },
      "source": [
        "df = pd.read_csv(r'well production.csv')\n",
        "map = {}\n",
        "\n",
        "well_names = []\n",
        "well_productions = []\n",
        "\n",
        "for i in range(0, len(df)):\n",
        "    Q = df.loc[i][3:15] # oil prod\n",
        "    # Convert elements to floats\n",
        "    T = [float(x) for x in range(0, 12, 1)] # months: [1.0, 2.0, 3.0, 4.0, 5.0, 6.0, 7.0, 8.0, 9.0, 10.0, 11.0, 12.0]\n",
        "    Q = [float(x) for x in Q]\n",
        "    # Decline curve function (using initial rate)\n",
        "    exp_decline = decline_curve(\"exponential\", Q[0])\n",
        "    hyp_decline = decline_curve(\"hyperbolic\", Q[0])\n",
        "    har_decline = decline_curve(\"harmonic\", Q[0])\n",
        "\n",
        "    # Store the optimized parameters for the fitted curves (T = time = x, Q = oil prod = y)\n",
        "    popt_exp, _ = curve_fit(exp_decline, T, Q, method=\"trf\")\n",
        "    popt_hyp, _ = curve_fit(hyp_decline, T, Q, method=\"trf\")\n",
        "    popt_har, _ = curve_fit(har_decline, T, Q, method=\"trf\")\n",
        "\n",
        "    # Calculate L2 norms and decide best fitting curve\n",
        "    L2_norms = [L2_norm(exp_decline(np.array(T), popt_exp[0]), Q), L2_norm(hyp_decline(np.array(T), popt_hyp[0], popt_hyp[1]), Q), L2_norm(har_decline(np.array(T), popt_har[0]), Q)]\n",
        "    best_fit = L2_norms.index(min(L2_norms))\n",
        "\n",
        "    # Define the three prediction curves\n",
        "    T_max = 36.0\n",
        "    T_pred = np.linspace(min(T), T_max)\n",
        "    pred_exp = exp_decline(T_pred, popt_exp[0])\n",
        "    pred_hyp = hyp_decline(T_pred, popt_hyp[0], popt_hyp[1])\n",
        "    pred_har = har_decline(T_pred, popt_har[0])\n",
        "\n",
        "    # Store the prediction curves\n",
        "    pred_curves = [pred_exp, pred_hyp, pred_har]\n",
        "\n",
        "    # Oil threshold - monthly production at which drilling is no longer viable\n",
        "    oil_threshold = 35\n",
        "\n",
        "    # Estimate cumulative oil production (until oil threshold is reached)\n",
        "    last_month = next(month for month, pred_oil in enumerate(pred_curves[best_fit]) if pred_oil < oil_threshold or math.isnan(pred_oil)) - 1 # This is the last month oil drilling is profitable\n",
        "    # Add the estimates, along with the name of the well, to lists (later used in dataframe creation)\n",
        "    well_names.append(df.loc[i][1])\n",
        "    well_productions.append(np.sum(pred_curves[best_fit][0:last_month+1]))\n",
        "    map[df.loc[i][1]] = np.sum(pred_curves[best_fit][0:last_month+1])"
      ],
      "execution_count": 38,
      "outputs": [
        {
          "output_type": "stream",
          "text": [
            "/usr/local/lib/python3.6/dist-packages/ipykernel_launcher.py:9: RuntimeWarning: invalid value encountered in power\n",
            "  if __name__ == '__main__':\n"
          ],
          "name": "stderr"
        },
        {
          "output_type": "execute_result",
          "data": {
            "text/plain": [
              "{'Brisket 1-204H': 19595.44329684795,\n",
              " 'Brisket 1-44H': 21344.36079208966,\n",
              " 'Brisket 10-65H': 95048.72521996834,\n",
              " 'Brisket 2-149H': 147666.8670531547,\n",
              " 'Brisket 3-212H': 44706.589585451075,\n",
              " 'Brisket 6-50H': 31975.42496076678,\n",
              " 'Brisket 7-105H': 3601.203008401725,\n",
              " 'Brisket 7-212H': 24772.247504319745,\n",
              " 'Brisket 9-106H': 43679.23056326787,\n",
              " 'Burger 10-170H': 56644.772410252706,\n",
              " 'Burger 2-179H': 3240.208043865861,\n",
              " 'Burger 3-45H': 141202.83758851598,\n",
              " 'Burger 6-148H': 31928.72170169367,\n",
              " 'Burger 6-59H': 59614.04645993249,\n",
              " 'Dakota 10-199H': 7405.137648245373,\n",
              " 'Dakota 13-166H': 24785.952224302706,\n",
              " 'Federal 12-111H': 92886.72993438756,\n",
              " 'Federal 12-25H': 16462.888010368726,\n",
              " 'Federal 14-113H': 123051.9650382154,\n",
              " 'Federal 3-123H': 101892.4261866603,\n",
              " 'Federal 3-125H': 13106.878525101507,\n",
              " 'Federal 7-130H': 11766.70861536535,\n",
              " 'Federal 8-142H': 133056.11195089266,\n",
              " 'Federal 8-166H': 70402.30068866735,\n",
              " 'Federal 8-38H': 32507.32281880708,\n",
              " 'Fennel 10-129H': 21877.738871431797,\n",
              " 'Fennel 8-70H': 93145.26390590279,\n",
              " 'Golden 1-209H': 99747.52627126657,\n",
              " 'Golden 11-109H': 71550.69638688004,\n",
              " 'Golden 14-27H': 31364.161252667614,\n",
              " 'Golden 4-21H': 24790.633561388655,\n",
              " 'Golden 5-19H': 39229.001891158885,\n",
              " 'Golden 7-109H': 63954.046567469006,\n",
              " 'Golden 8-14H': 27828.256232646643,\n",
              " 'Golden 8-162H': 12232.188543911774,\n",
              " 'Golden 9-62H': 6567.527500355856,\n",
              " 'Gunnison 12-38H': 34758.1662119202,\n",
              " 'Gunnison 13-160H': 3096.839709094608,\n",
              " 'Gunnison 4-93H': 3641.70073944919,\n",
              " 'Gunnison 5-129H': 44204.96079664883,\n",
              " 'Gunnison 7-24H': 58975.192606499375,\n",
              " 'Gunnison 8-30H': 62976.316174595464,\n",
              " 'Johnson 7-3H': 44481.81680150908,\n",
              " 'King 10-202H': 18060.365584034866,\n",
              " 'King 12-179H': 11906.880266056678,\n",
              " 'King 13-150H': 4477.395095595064,\n",
              " 'King 13-215H': 29403.245026837296,\n",
              " 'King 13-28H': 157639.09854123124,\n",
              " 'King 14-181H': 2039.8278218686837,\n",
              " 'King 14-184H': 34574.38890440468,\n",
              " 'King 2-120H': 14805.654656262252,\n",
              " 'King 5-15H': 65213.57964668086,\n",
              " 'King 7-184H': 63038.61035111337,\n",
              " 'King 7-188H': 26932.789409611665,\n",
              " 'Laramie 14-76H': 95059.3469163934,\n",
              " 'Laramie 9-10H': 68911.54733624829,\n",
              " 'Peak 3-55H': 9100.660008432433,\n",
              " 'Peak 9-46H': 162215.974497359,\n",
              " 'Pepper 6-133H': 36905.306542378,\n",
              " 'Pepper 8-129H': 863.4835321489451,\n",
              " 'Pikachu 13-133H': 8286.056491025223,\n",
              " 'Pikachu 3-200H': 5453.476941342496,\n",
              " 'Pole 10-155H': 51257.27818585661,\n",
              " 'Pole 11-4H': 85912.49463288153,\n",
              " 'Pole 14-200H': 43250.33029609894,\n",
              " 'Pole 3-201H': 40130.80263819775,\n",
              " 'Salt 12-135H': 34042.13125971425,\n",
              " 'State 10-157H': 53749.27629996522,\n",
              " 'State 11-28H': 42763.914799884915,\n",
              " 'State 13-178H': 56486.062947074155,\n",
              " 'State 13-31H': 60837.02684434411,\n",
              " 'State 3-156H': 72728.91467683432,\n",
              " 'State 3-95H': 30391.671409594826,\n",
              " 'State 4-164H': 47125.90714110026,\n",
              " 'State 4-189H': 105064.45444707264,\n",
              " 'State 8-197H': 112751.72881702022,\n",
              " 'Sugar 1-146H': 11654.370753618676,\n",
              " 'Sundae 1-129H': 41288.07601336715,\n",
              " 'Sundae 1-163H': 87485.07689712915,\n",
              " 'Sundae 14-192H': 16815.89595860864,\n",
              " 'Sundae 2-159H': 85880.3647398005,\n",
              " 'Sundae 2-27H': 2392.8872953758223,\n",
              " 'Sundae 7-180H': 4497.098747251693,\n",
              " 'Sundae 7-185H': 41454.00825764672,\n",
              " 'Sundae 8-150H': 34749.3473276801,\n",
              " 'Sundae 8-6H': 143462.1646381792,\n",
              " 'Sutherland 1-11H': 81283.05751377773,\n",
              " 'Sutherland 11-157H': 34405.849570807906,\n",
              " 'Sutherland 5-56H': 12461.69798658747,\n",
              " 'Sutherland 6-34H': 17128.011089523832,\n",
              " 'Tarragon 10-11H': 8751.07030571576,\n",
              " 'Tarragon 4-119H': 113665.68849798653,\n",
              " 'Tribal 1-43H': 74686.79206897951,\n",
              " 'Tribal 11-185H': 53364.398461348435,\n",
              " 'Tribal 14-11H': 12353.089629729482,\n",
              " 'Tribal 14-4H': 9230.30674650119,\n",
              " 'Tribal 2-17H': 116517.5066436816,\n",
              " 'Tribal 4-215H': 8976.762469769228,\n",
              " 'Tribal 6-134H': 33937.58265896723,\n",
              " 'Tribal 8-141H': 20756.09526994307}"
            ]
          },
          "metadata": {
            "tags": []
          },
          "execution_count": 38
        }
      ]
    },
    {
      "cell_type": "code",
      "metadata": {
        "id": "vqpXyp1cpYnz"
      },
      "source": [
        "avg_proppant = []\n",
        "avg_pump = []\n",
        "frac_count = []\n",
        "well_files = []\n",
        "for well_file in os.listdir('well production'):\n",
        "    count = 0\n",
        "    prop = 0\n",
        "    pump = 0\n",
        "    well_file_df = pd.read_csv(os.path.join('well production', well_file))\n",
        "    for i in range(0, len(well_file_df)):\n",
        "        if (well_file_df.loc[i]['proppant weight (lbs)'] > 0 and well_file_df.loc[i]['pump rate (cubic feet/min)'] > 0):\n",
        "            count += 1\n",
        "            prop += well_file_df.loc[i]['proppant weight (lbs)']\n",
        "            pump += well_file_df.loc[i]['pump rate (cubic feet/min)']\n",
        "    well_files.append(well_file[:-4])\n",
        "    avg_proppant.append(prop/count)\n",
        "    avg_pump.append(pump/count)\n",
        "    frac_count.append(count)"
      ],
      "execution_count": 39,
      "outputs": []
    },
    {
      "cell_type": "code",
      "metadata": {
        "id": "btRR2H99JiDb",
        "colab": {
          "base_uri": "https://localhost:8080/",
          "height": 419
        },
        "outputId": "89b26112-2b8a-4241-9066-6419e054a576"
      },
      "source": [
        "# Generate a csv file with the production data for each well\n",
        "well_productions = []\n",
        "for well in well_files:\n",
        "    well_productions.append(map.get(well))\n",
        "well_data = {'well name': well_files, 'avg proppant weight': avg_proppant, 'avg pump rate': avg_pump, 'num frac stages': frac_count, 'pred production': well_productions}\n",
        "\n",
        "well_df = pd.DataFrame(data=well_data)\n",
        "well_df.to_csv(r'well_data.csv', index = False)\n",
        "well_df"
      ],
      "execution_count": 41,
      "outputs": [
        {
          "output_type": "execute_result",
          "data": {
            "text/html": [
              "<div>\n",
              "<style scoped>\n",
              "    .dataframe tbody tr th:only-of-type {\n",
              "        vertical-align: middle;\n",
              "    }\n",
              "\n",
              "    .dataframe tbody tr th {\n",
              "        vertical-align: top;\n",
              "    }\n",
              "\n",
              "    .dataframe thead th {\n",
              "        text-align: right;\n",
              "    }\n",
              "</style>\n",
              "<table border=\"1\" class=\"dataframe\">\n",
              "  <thead>\n",
              "    <tr style=\"text-align: right;\">\n",
              "      <th></th>\n",
              "      <th>well name</th>\n",
              "      <th>avg proppant weight</th>\n",
              "      <th>avg pump rate</th>\n",
              "      <th>num frac stages</th>\n",
              "      <th>pred production</th>\n",
              "    </tr>\n",
              "  </thead>\n",
              "  <tbody>\n",
              "    <tr>\n",
              "      <th>0</th>\n",
              "      <td>Brisket 3-212H</td>\n",
              "      <td>684992.449778</td>\n",
              "      <td>292.153079</td>\n",
              "      <td>25</td>\n",
              "      <td>44706.589585</td>\n",
              "    </tr>\n",
              "    <tr>\n",
              "      <th>1</th>\n",
              "      <td>Laramie 14-76H</td>\n",
              "      <td>877016.788159</td>\n",
              "      <td>298.515356</td>\n",
              "      <td>50</td>\n",
              "      <td>95059.346916</td>\n",
              "    </tr>\n",
              "    <tr>\n",
              "      <th>2</th>\n",
              "      <td>Peak 3-55H</td>\n",
              "      <td>836894.990963</td>\n",
              "      <td>307.676437</td>\n",
              "      <td>50</td>\n",
              "      <td>9100.660008</td>\n",
              "    </tr>\n",
              "    <tr>\n",
              "      <th>3</th>\n",
              "      <td>State 4-189H</td>\n",
              "      <td>711049.925353</td>\n",
              "      <td>305.655797</td>\n",
              "      <td>34</td>\n",
              "      <td>105064.454447</td>\n",
              "    </tr>\n",
              "    <tr>\n",
              "      <th>4</th>\n",
              "      <td>Federal 12-111H</td>\n",
              "      <td>702813.004769</td>\n",
              "      <td>308.407084</td>\n",
              "      <td>50</td>\n",
              "      <td>92886.729934</td>\n",
              "    </tr>\n",
              "    <tr>\n",
              "      <th>...</th>\n",
              "      <td>...</td>\n",
              "      <td>...</td>\n",
              "      <td>...</td>\n",
              "      <td>...</td>\n",
              "      <td>...</td>\n",
              "    </tr>\n",
              "    <tr>\n",
              "      <th>95</th>\n",
              "      <td>Brisket 1-204H</td>\n",
              "      <td>734839.237574</td>\n",
              "      <td>295.729046</td>\n",
              "      <td>50</td>\n",
              "      <td>19595.443297</td>\n",
              "    </tr>\n",
              "    <tr>\n",
              "      <th>96</th>\n",
              "      <td>Tribal 14-11H</td>\n",
              "      <td>871618.753545</td>\n",
              "      <td>300.345427</td>\n",
              "      <td>50</td>\n",
              "      <td>12353.089630</td>\n",
              "    </tr>\n",
              "    <tr>\n",
              "      <th>97</th>\n",
              "      <td>Tribal 1-43H</td>\n",
              "      <td>853197.060783</td>\n",
              "      <td>297.694954</td>\n",
              "      <td>34</td>\n",
              "      <td>74686.792069</td>\n",
              "    </tr>\n",
              "    <tr>\n",
              "      <th>98</th>\n",
              "      <td>King 13-215H</td>\n",
              "      <td>834045.771760</td>\n",
              "      <td>305.935717</td>\n",
              "      <td>50</td>\n",
              "      <td>29403.245027</td>\n",
              "    </tr>\n",
              "    <tr>\n",
              "      <th>99</th>\n",
              "      <td>Sundae 2-27H</td>\n",
              "      <td>610803.226386</td>\n",
              "      <td>303.103218</td>\n",
              "      <td>9</td>\n",
              "      <td>2392.887295</td>\n",
              "    </tr>\n",
              "  </tbody>\n",
              "</table>\n",
              "<p>100 rows × 5 columns</p>\n",
              "</div>"
            ],
            "text/plain": [
              "          well name  avg proppant weight  ...  num frac stages  pred production\n",
              "0    Brisket 3-212H        684992.449778  ...               25     44706.589585\n",
              "1    Laramie 14-76H        877016.788159  ...               50     95059.346916\n",
              "2        Peak 3-55H        836894.990963  ...               50      9100.660008\n",
              "3      State 4-189H        711049.925353  ...               34    105064.454447\n",
              "4   Federal 12-111H        702813.004769  ...               50     92886.729934\n",
              "..              ...                  ...  ...              ...              ...\n",
              "95   Brisket 1-204H        734839.237574  ...               50     19595.443297\n",
              "96    Tribal 14-11H        871618.753545  ...               50     12353.089630\n",
              "97     Tribal 1-43H        853197.060783  ...               34     74686.792069\n",
              "98     King 13-215H        834045.771760  ...               50     29403.245027\n",
              "99     Sundae 2-27H        610803.226386  ...                9      2392.887295\n",
              "\n",
              "[100 rows x 5 columns]"
            ]
          },
          "metadata": {
            "tags": []
          },
          "execution_count": 41
        }
      ]
    }
  ]
}